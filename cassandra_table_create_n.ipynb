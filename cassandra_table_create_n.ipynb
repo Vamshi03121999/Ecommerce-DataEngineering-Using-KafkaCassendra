{
 "cells": [
  {
   "cell_type": "code",
   "execution_count": 1,
   "metadata": {},
   "outputs": [
    {
     "name": "stdout",
     "output_type": "stream",
     "text": [
      "Hello World !!\n"
     ]
    }
   ],
   "source": [
    "print(\"Hello World !!\")"
   ]
  },
  {
   "cell_type": "code",
   "execution_count": 3,
   "metadata": {},
   "outputs": [
    {
     "name": "stdout",
     "output_type": "stream",
     "text": [
      "Collecting cassandra-driver\n",
      "  Downloading cassandra_driver-3.28.0-cp39-cp39-macosx_10_9_x86_64.whl (4.1 MB)\n",
      "\u001b[K     |████████████████████████████████| 4.1 MB 853 kB/s eta 0:00:01\n",
      "\u001b[?25hRequirement already satisfied: six>=1.9 in /opt/anaconda3/lib/python3.9/site-packages (from cassandra-driver) (1.16.0)\n",
      "Collecting geomet<0.3,>=0.1\n",
      "  Using cached geomet-0.2.1.post1-py3-none-any.whl (18 kB)\n",
      "Requirement already satisfied: click in /opt/anaconda3/lib/python3.9/site-packages (from geomet<0.3,>=0.1->cassandra-driver) (8.0.4)\n",
      "Installing collected packages: geomet, cassandra-driver\n",
      "Successfully installed cassandra-driver-3.28.0 geomet-0.2.1.post1\n",
      "Note: you may need to restart the kernel to use updated packages.\n"
     ]
    }
   ],
   "source": [
    "pip install cassandra-driver"
   ]
  },
  {
   "cell_type": "code",
   "execution_count": 2,
   "metadata": {},
   "outputs": [
    {
     "name": "stdout",
     "output_type": "stream",
     "text": [
      "3.28.0\n"
     ]
    }
   ],
   "source": [
    "import cassandra\n",
    "print (cassandra.__version__)"
   ]
  },
  {
   "cell_type": "code",
   "execution_count": 3,
   "metadata": {},
   "outputs": [
    {
     "name": "stdout",
     "output_type": "stream",
     "text": [
      "4.0.0.6816\n"
     ]
    }
   ],
   "source": [
    "from cassandra.cluster import Cluster\n",
    "from cassandra.auth import PlainTextAuthProvider\n",
    "\n",
    "cloud_config= {\n",
    "  'secure_connect_bundle': 'path/of/secure_connect_bundle.zip'}\n",
    "auth_provider = PlainTextAuthProvider('client_id', 'secret_key')\n",
    "cluster = Cluster(cloud=cloud_config, auth_provider=auth_provider)\n",
    "session = cluster.connect()\n",
    "\n",
    "row = session.execute(\"select release_version from system.local\").one()\n",
    "# print(row)\n",
    "if row:\n",
    "    print(row[0])\n",
    "else:\n",
    "    print(\"An error occurred.\")"
   ]
  },
  {
   "cell_type": "code",
   "execution_count": 4,
   "metadata": {},
   "outputs": [
    {
     "name": "stdout",
     "output_type": "stream",
     "text": [
      "Inside the ecommerce keyspace\n"
     ]
    }
   ],
   "source": [
    "# Command to use a keyspace\n",
    "try:\n",
    "    query = \"use ecommerce\"\n",
    "    session.execute(query)\n",
    "    print(\"Inside the ecommerce keyspace\")\n",
    "except Exception as err:\n",
    "    print(\"Exception Occured while using Keyspace : \",err)"
   ]
  },
  {
   "cell_type": "code",
   "execution_count": 7,
   "metadata": {},
   "outputs": [
    {
     "name": "stdout",
     "output_type": "stream",
     "text": [
      "Table created inside the keyspace\n"
     ]
    }
   ],
   "source": [
    "# Command to create a table inside a KEyspace\n",
    "try:\n",
    "    query = \"\"\"CREATE TABLE ecommerce.orders (\n",
    "    order_id uuid,\n",
    "    customer_id uuid,\n",
    "    order_status varchar,\n",
    "    order_purchase_timestamp timestamp,\n",
    "    order_approved_at timestamp,\n",
    "    order_delivered_carrier_date timestamp,\n",
    "    order_delivered_customer_date timestamp,\n",
    "    order_estimated_delivery_date timestamp,\n",
    "    order_hour int,\n",
    "    Oorder_day_of_week varchar,\n",
    "    PRIMARY KEY ((customer_id), order_id, order_purchase_timestamp)\n",
    ")\"\"\"\n",
    "    session.execute(query)\n",
    "    print(\"Table created inside the keyspace\")\n",
    "except Exception as err:\n",
    "    print(\"Exception Occured while creating the table : \",err)"
   ]
  }
 ],
 "metadata": {
  "kernelspec": {
   "display_name": "env",
   "language": "python",
   "name": "python3"
  },
  "language_info": {
   "codemirror_mode": {
    "name": "ipython",
    "version": 3
   },
   "file_extension": ".py",
   "mimetype": "text/x-python",
   "name": "python",
   "nbconvert_exporter": "python",
   "pygments_lexer": "ipython3",
   "version": "3.9.12"
  },
  "orig_nbformat": 4
 },
 "nbformat": 4,
 "nbformat_minor": 2
}
